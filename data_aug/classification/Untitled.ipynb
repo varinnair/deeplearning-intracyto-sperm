{
 "cells": [
  {
   "cell_type": "code",
   "execution_count": 13,
   "metadata": {},
   "outputs": [],
   "source": [
    "import csv\n",
    "import json\n",
    "import cv2\n",
    "import os\n",
    "import scipy.misc\n",
    "from PIL import Image\n",
    "import numpy as np\n",
    "from glob import glob"
   ]
  },
  {
   "cell_type": "code",
   "execution_count": 14,
   "metadata": {},
   "outputs": [],
   "source": [
    "write_file_name = 'all_files_labels.csv'\n",
    "cwd = os.getcwd()\n",
    "normal_sperm = glob(cwd + '/train/normal_sperm/*.jpeg')\n",
    "abnormal_sperm = glob(cwd + '/train/abnormal_sperm/*.jpeg')"
   ]
  },
  {
   "cell_type": "code",
   "execution_count": 12,
   "metadata": {},
   "outputs": [],
   "source": [
    "with open(write_file_name, 'w', newline='') as writefile:\n",
    "    filewriter = csv.writer(writefile, delimiter=',', quoting=csv.QUOTE_MINIMAL)\n",
    "    filewriter.writerow(['filename', 'label'])\n",
    "    for filename in normal_sperm:        \n",
    "        filename = filename.split('\\\\')[-1]\n",
    "        filewriter.writerow([filename, 'N'])\n",
    "    for filename in abnormal_sperm:\n",
    "        filename = filename.split('\\\\')[-1]\n",
    "        filewriter.writerow([filename, 'A'])"
   ]
  },
  {
   "cell_type": "code",
   "execution_count": null,
   "metadata": {},
   "outputs": [],
   "source": []
  }
 ],
 "metadata": {
  "kernelspec": {
   "display_name": "Python 3",
   "language": "python",
   "name": "python3"
  },
  "language_info": {
   "codemirror_mode": {
    "name": "ipython",
    "version": 3
   },
   "file_extension": ".py",
   "mimetype": "text/x-python",
   "name": "python",
   "nbconvert_exporter": "python",
   "pygments_lexer": "ipython3",
   "version": "3.6.4"
  }
 },
 "nbformat": 4,
 "nbformat_minor": 2
}
